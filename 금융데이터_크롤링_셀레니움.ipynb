{
  "nbformat": 4,
  "nbformat_minor": 0,
  "metadata": {
    "colab": {
      "private_outputs": true,
      "provenance": [],
      "authorship_tag": "ABX9TyNW4rghPrebKU0FZJCXohxr",
      "include_colab_link": true
    },
    "kernelspec": {
      "name": "python3",
      "display_name": "Python 3"
    },
    "language_info": {
      "name": "python"
    }
  },
  "cells": [
    {
      "cell_type": "markdown",
      "metadata": {
        "id": "view-in-github",
        "colab_type": "text"
      },
      "source": [
        "<a href=\"https://colab.research.google.com/github/denverkim/DATA_MINING/blob/main/%EA%B8%88%EC%9C%B5%EB%8D%B0%EC%9D%B4%ED%84%B0_%ED%81%AC%EB%A1%A4%EB%A7%81_%EC%85%80%EB%A0%88%EB%8B%88%EC%9B%80.ipynb\" target=\"_parent\"><img src=\"https://colab.research.google.com/assets/colab-badge.svg\" alt=\"Open In Colab\"/></a>"
      ]
    },
    {
      "cell_type": "markdown",
      "source": [
        "# Exercise #2 세금계산프로그램"
      ],
      "metadata": {
        "id": "JhvNXm_v32Gn"
      }
    },
    {
      "cell_type": "code",
      "source": [
        "rate = .2\n",
        "sd = 10000\n",
        "dd = 3000\n",
        "income = float(input('Enter the gross income: '))\n",
        "dn = int(input('Enter the number of dependents: '))\n",
        "tax = (income - sd - dn * dd)*rate\n",
        "print('The income tax is ${:.2f}'.format(tax))"
      ],
      "metadata": {
        "id": "kLNLsBqW2lPn"
      },
      "execution_count": null,
      "outputs": []
    },
    {
      "cell_type": "markdown",
      "source": [
        "# Exercise #3 팬다스"
      ],
      "metadata": {
        "id": "fWmmwiLJaHzE"
      }
    },
    {
      "cell_type": "code",
      "source": [
        "# Read creditcard.csv file into a dataframe. 크레딧카드 파일을 데이터프레임으로 읽기\n",
        "import pandas as pd\n",
        "df = pd.read_csv('https://raw.githubusercontent.com/nsethi31/Kaggle-Data-Credit-Card-Fraud-Detection/master/creditcard.csv')"
      ],
      "metadata": {
        "id": "iU23Woob8BPq"
      },
      "execution_count": null,
      "outputs": []
    },
    {
      "cell_type": "code",
      "source": [
        "# # 파일이 너무 커서 데이터를 샘플링해서 사용하는 경우\n",
        "# import random\n",
        "# import numpy as np\n",
        "# sample_index = random.sample(list(np.arange(len(df))), k=round(len(df)/10)) #샘플링할 인덱스 생성\n",
        "# df_sample = df.iloc[sample_index] #인덱스를 이용해 데이터 추출\n",
        "# df_sample.groupby('class').count() #샘플링후 데이터 확인 (클래스별로 데이터 카운트)\n",
        "# df_sample.to_csv('creditcard_sample.csv') #저장"
      ],
      "metadata": {
        "id": "teVIbRr7tR4D"
      },
      "execution_count": null,
      "outputs": []
    },
    {
      "cell_type": "code",
      "source": [
        "# Print first 5 or last 3 rows of df. 처음 다섯줄, 마지막 세줄 출력\n",
        "df.head()"
      ],
      "metadata": {
        "id": "Eodgu_318Pny"
      },
      "execution_count": null,
      "outputs": []
    },
    {
      "cell_type": "code",
      "source": [
        "df.tail(3)"
      ],
      "metadata": {
        "id": "nPFcDjqs8XaK"
      },
      "execution_count": null,
      "outputs": []
    },
    {
      "cell_type": "code",
      "source": [
        "# Get data types, index, columns, values. 데이터타입, 인덱스, 컬럼들, 값들\n",
        "df.dtypes\n",
        "df.index\n",
        "df.columns\n",
        "df.values"
      ],
      "metadata": {
        "id": "6oqBeDDj8bmP"
      },
      "execution_count": null,
      "outputs": []
    },
    {
      "cell_type": "code",
      "source": [
        "# Statistical summary of each column. 각 컬럼에 대한 통계요약\n",
        "df.describe()"
      ],
      "metadata": {
        "id": "4RvNF9rZ8hUa"
      },
      "execution_count": null,
      "outputs": []
    },
    {
      "cell_type": "code",
      "source": [
        "# Sort records by Amount (descending order). 한 컬럼을 정해 내림차순으로 정렬\n",
        "df.sort_values(by='Amount', ascending=False)"
      ],
      "metadata": {
        "id": "IdbRcF368kx3"
      },
      "execution_count": null,
      "outputs": []
    },
    {
      "cell_type": "code",
      "source": [
        "# Slice the records and display the following columns and rows:\n",
        "# 레코드를 짤라서 다음의 열과 행을 출력\n",
        "# Amount\n",
        "df.Amount #df['Amount']\n",
        "\n",
        "# Rows 1 to 2\n",
        "df[:2]\n",
        "\n",
        "# Class and Amount\n",
        "df[['Class', 'Amount']]\n",
        "\n",
        "# 9 row of Amount column\n",
        "df.loc[8, 'Amount']\n",
        "\n",
        "# 4 to 5 rows of 1 and 4 columns\n",
        "df.iloc[3:5, [0,3]]"
      ],
      "metadata": {
        "id": "TNaGqFnh-VCr"
      },
      "execution_count": null,
      "outputs": []
    },
    {
      "cell_type": "code",
      "source": [
        "# Filter the data and display the following columns and rows: 데이터를 검색하여 다음의 열과 행을 출력\n",
        "# Amount > 100\n",
        "df[df.Amount > 100]\n",
        "\n",
        "# Time is in either 2, 4, or 7\n",
        "df[df.Time.isin([2, 4, 7])]"
      ],
      "metadata": {
        "id": "cY_whQr3AjfV"
      },
      "execution_count": null,
      "outputs": []
    },
    {
      "cell_type": "code",
      "source": [
        "# Assign new values in the following locations: 새로운 값으로 대체\n",
        "# 10.68 for Amount column at index 9.\n",
        "df.loc[9, 'Amount'] = 10.68\n",
        "\n",
        "# Np null values for Amount column at index 9 (np.nan).\n",
        "import numpy as np\n",
        "df.loc[9, 'Amount'] = np.nan\n",
        "\n",
        "# .5 for all rows in V1 column. V1 컬럼 전체를 .5로 바꾸기\n",
        "df.V1 = .5\n",
        "\n",
        "# Add new column named avg_V23 that is the average of V2 and V3. V2와 V3의 평균을 구하여 avg_V23 컬럼을 만듬\n",
        "df['avg_V23'] = (df.V2 + df.V3)/2\n",
        "df"
      ],
      "metadata": {
        "id": "MAEaJSbhC-Nb"
      },
      "execution_count": null,
      "outputs": []
    },
    {
      "cell_type": "code",
      "source": [
        "# Rename columns. 컬럼이름 바꾸기\n",
        "# Time to time\n",
        "# Amount to amount\n",
        "# Class to class\n",
        "df.rename(columns={'Time':'time', 'Amount':'amount', 'Class':'class'}, inplace=True)\n",
        "df.columns\n",
        "# Save the result data frame to a csv file. 데이터프레임을 csv파일로 저장\n",
        "df.to_csv('EX3.csv')"
      ],
      "metadata": {
        "id": "4xgUdo3sFBBN"
      },
      "execution_count": null,
      "outputs": []
    },
    {
      "cell_type": "markdown",
      "source": [
        "# Exercise #4 read_html"
      ],
      "metadata": {
        "id": "iommWlBYyNdr"
      }
    },
    {
      "cell_type": "code",
      "source": [
        "# 테마주 가져오기\n",
        "#http://m.infostock.co.kr/sector/sector.asp?mode=w\n",
        "df = pd.read_html('http://m.infostock.co.kr/sector/sector_detail.asp?code=64&theme=2%uCC28%uC804%uC9C0&mode=w')\n",
        "df = df[1][3:]\n",
        "df.columns = df.iloc[0]\n",
        "df = df[1:]\n",
        "df.reset_index(drop=True)"
      ],
      "metadata": {
        "id": "VPeVOtMPyMgc"
      },
      "execution_count": null,
      "outputs": []
    },
    {
      "cell_type": "code",
      "source": [
        "# 회사명으로 종목 코드 얻기 (삼성전자)\n",
        "df_stockcode = pd.read_html(\"http://kind.krx.co.kr/corpgeneral/corpList.do?method=download\")[0]\n",
        "df_stockcode.head()"
      ],
      "metadata": {
        "id": "b1dIe9leyX-v"
      },
      "execution_count": null,
      "outputs": []
    },
    {
      "cell_type": "code",
      "source": [
        "df_stockcode.info() #정보확인\n",
        "df_stockcode.isnull().sum() #결측치 확인\n",
        "df_stockcode.종목코드 = df_stockcode.종목코드.apply('{:06d}'.format)\n",
        "df_stockcode.종목코드\n",
        "df_stockcode.종목코드[df_stockcode.회사명 == '삼성전자']  #005930"
      ],
      "metadata": {
        "id": "jE0ykJzb04C6"
      },
      "execution_count": null,
      "outputs": []
    },
    {
      "cell_type": "markdown",
      "source": [
        "# Exercise #5 맷플랏리브"
      ],
      "metadata": {
        "id": "ltWRpAA7aZKn"
      }
    },
    {
      "cell_type": "code",
      "source": [
        "!pip install finance-datareader"
      ],
      "metadata": {
        "id": "q3ECO6BuKCTs"
      },
      "execution_count": null,
      "outputs": []
    },
    {
      "cell_type": "code",
      "source": [
        "import FinanceDataReader as fdr\n",
        "# stock price data for Amazon\n",
        "amzn = fdr.DataReader('AMZN', '2023-01-01', '2023-06-01')\n",
        "amzn.head()"
      ],
      "metadata": {
        "id": "ELn9-iFUJSty"
      },
      "execution_count": null,
      "outputs": []
    },
    {
      "cell_type": "code",
      "source": [
        "# stock price data for Google\n",
        "googl = fdr.DataReader('GOOGL', '2023-01-01', '2023-06-01')\n",
        "googl.head()"
      ],
      "metadata": {
        "id": "iaXHe2S6Uvne"
      },
      "execution_count": null,
      "outputs": []
    },
    {
      "cell_type": "code",
      "source": [
        "# stock price data for Apple\n",
        "aapl = fdr.DataReader('AAPL', '2023-01-01', '2023-06-01')\n",
        "aapl.head()"
      ],
      "metadata": {
        "id": "IeiyUIGDU-66"
      },
      "execution_count": null,
      "outputs": []
    },
    {
      "cell_type": "code",
      "source": [
        "pd.concat([amzn.Returns, amzn.Returns.shift(1)], axis=1)\n",
        "((amzn.Returns - amzn.Returns.shift(1))/amzn.Returns.shift(1))*100"
      ],
      "metadata": {
        "id": "3pPlTCPj4AJG"
      },
      "execution_count": null,
      "outputs": []
    },
    {
      "cell_type": "code",
      "source": [
        "# 변동율 계산 (종가-시가)/시가\n",
        "amzn['Returns'] = (amzn.Close - amzn.Open)/amzn.Open #아마존\n",
        "googl['Returns'] = (googl.Close - googl.Open)/googl.Open #구글\n",
        "aapl['Returns'] = (aapl.Close - aapl.Open)/aapl.Open #애플\n",
        "\n",
        "# 변동율의 평균, 표준편차 계산\n",
        "# 아마존\n",
        "import numpy as np\n",
        "amzn_return_avg = np.round(amzn.Returns.mean(), 2)\n",
        "amzn_return_std = np.round(amzn.Returns.std(), 2)\n",
        "\n",
        "#구글\n",
        "googl_return_avg = np.round(googl.Returns.mean(), 2)\n",
        "googl_return_std = np.round(googl.Returns.std(), 2)\n",
        "\n",
        "#애플\n",
        "aapl_return_avg = np.round(aapl.Returns.mean(), 2)\n",
        "aapl_return_std = np.round(aapl.Returns.std(), 2)"
      ],
      "metadata": {
        "id": "GcJGe68zVImf"
      },
      "execution_count": null,
      "outputs": []
    },
    {
      "cell_type": "code",
      "source": [
        "# 변동율 히스토그램\n",
        "import matplotlib.pyplot as plt\n",
        "amzn.Returns.hist()\n",
        "plt.title('AMZN Stock Price Returns Distribution; Mean: {}, STD: {}'.format(amzn_return_avg,amzn_return_std))"
      ],
      "metadata": {
        "id": "rmZZu6YW9VYq"
      },
      "execution_count": null,
      "outputs": []
    },
    {
      "cell_type": "code",
      "source": [
        "googl.Returns.hist()\n",
        "plt.title('GOOGL Stock Price Returns Distribution; Mean: {}, STD: {}'.format(googl_return_avg,googl_return_std))"
      ],
      "metadata": {
        "id": "3r0ifWk692MS"
      },
      "execution_count": null,
      "outputs": []
    },
    {
      "cell_type": "code",
      "source": [
        "aapl.Returns.hist()\n",
        "plt.title('AAPL Stock Price Returns Distribution; Mean: {}, STD: {}'.format(aapl_return_avg,aapl_return_std))"
      ],
      "metadata": {
        "id": "w3yjHSLC936C"
      },
      "execution_count": null,
      "outputs": []
    },
    {
      "cell_type": "code",
      "source": [
        "# 변동율 박스플랏\n",
        "df = pd.concat([amzn.Returns, googl.Returns, aapl.Returns], axis=1)\n",
        "df.columns = ['AMZN', 'GOOGL', 'AAPL']\n",
        "df.boxplot()\n",
        "plt.title('Box Plot for AMZN, GOOGL and AAPL Returns')\n",
        "plt.show()"
      ],
      "metadata": {
        "id": "4hFN0BB89fwJ"
      },
      "execution_count": null,
      "outputs": []
    },
    {
      "cell_type": "code",
      "source": [
        "# 히스토그램 한꺼번에 그릴때\n",
        "plt.figure(figsize=(20,5))\n",
        "plt.subplot(131)\n",
        "amzn.Returns.hist()\n",
        "plt.title(f'AMZN Stock Price Returns Distribution; Mean: {amzn_return_avg}, STD: {amzn_return_std}')\n",
        "plt.subplot(132)\n",
        "googl.Returns.hist()\n",
        "plt.title(f'GOOGL Stock Price Returns Distribution; Mean: {googl_return_avg}, STD: {googl_return_std}')\n",
        "plt.subplot(133)\n",
        "aapl.Returns.hist()\n",
        "plt.title(f'AAPL Stock Price Returns Distribution; Mean: {aapl_return_avg}, STD: {aapl_return_std}')\n",
        "plt.show()"
      ],
      "metadata": {
        "id": "9Gy8Ix_9Vc_F"
      },
      "execution_count": null,
      "outputs": []
    },
    {
      "cell_type": "code",
      "source": [
        "# 아마존, 구글, 애플의 주가를 가져와서 시각화 하시오\n",
        "import seaborn as sns\n",
        "amzn.columns\n",
        "plt.figure(figsize=(20,5))\n",
        "sns.lineplot(x=amzn.index, y=amzn.Close)\n",
        "plt.grid()"
      ],
      "metadata": {
        "id": "ijIhfaIBDO0Y"
      },
      "execution_count": null,
      "outputs": []
    },
    {
      "cell_type": "code",
      "source": [
        "plt.figure(figsize=(20,5))\n",
        "sns.lineplot(x=googl.index, y=googl.Close)\n",
        "plt.grid()"
      ],
      "metadata": {
        "id": "DxWtWKS-d4jV"
      },
      "execution_count": null,
      "outputs": []
    },
    {
      "cell_type": "code",
      "source": [
        "plt.figure(figsize=(20,5))\n",
        "sns.lineplot(x=aapl.index, y=aapl.Close)\n",
        "plt.grid()"
      ],
      "metadata": {
        "id": "_yk1eRwId9dg"
      },
      "execution_count": null,
      "outputs": []
    },
    {
      "cell_type": "code",
      "source": [
        "# 세 개 회사의 변동율의 상관관계를 히트맵으로 출력\n",
        "sns.heatmap(df.corr(), annot=True)"
      ],
      "metadata": {
        "id": "gHM2fx0bC7jk"
      },
      "execution_count": null,
      "outputs": []
    },
    {
      "cell_type": "markdown",
      "source": [
        "# Exercise #6"
      ],
      "metadata": {
        "id": "YjrmZtSdemY4"
      }
    },
    {
      "cell_type": "code",
      "source": [
        "# creditcard.csv파일을 가져와서 정상거래와 사기거래의 개수를 세고 시각화 하시오\n",
        "card_df = pd.read_csv('https://raw.githubusercontent.com/nsethi31/Kaggle-Data-Credit-Card-Fraud-Detection/master/creditcard.csv')\n",
        "card_df.head()"
      ],
      "metadata": {
        "id": "NEmr2zY9Q1zH"
      },
      "execution_count": null,
      "outputs": []
    },
    {
      "cell_type": "code",
      "source": [
        "# value_counts를 이용해서 개수 세기\n",
        "freq = card_df['Class'].value_counts() #빈도\n",
        "rel_freq = freq/freq.sum() #상대빈도\n",
        "freq_pct = rel_freq * 100 #빈도백분율\n",
        "tab = pd.concat([freq, rel_freq, freq_pct], axis=1)\n",
        "tab.index = ['정상거래', '사기거래']\n",
        "tab.columns = ['빈도', '상대빈도', '빈도백분율']\n",
        "tab"
      ],
      "metadata": {
        "id": "1zlVIaXURedu"
      },
      "execution_count": null,
      "outputs": []
    },
    {
      "cell_type": "code",
      "source": [
        "# 거래횟수를 비교하기 위해 막대그래프 출력\n",
        "sns.barplot(x=tab.index, y=tab.빈도)\n",
        "plt.title('거래횟수 비교')"
      ],
      "metadata": {
        "id": "xYllJbddgdQJ"
      },
      "execution_count": null,
      "outputs": []
    },
    {
      "cell_type": "code",
      "source": [
        "# Google Colab 한글 폰트 설치\n",
        "!sudo apt-get install -y fonts-nanum\n",
        "!sudo fc-cache -fv\n",
        "!rm ~/.cache/matplotlib -rf"
      ],
      "metadata": {
        "id": "6eDTNIBFVdhb"
      },
      "execution_count": null,
      "outputs": []
    },
    {
      "cell_type": "code",
      "source": [
        "from matplotlib import font_manager\n",
        "font_manager.findSystemFonts() #폰트패쓰 확인"
      ],
      "metadata": {
        "id": "cANahKgTVfuK"
      },
      "execution_count": null,
      "outputs": []
    },
    {
      "cell_type": "code",
      "source": [
        "path = '/usr/share/fonts/truetype/nanum/NanumGothic.ttf'\n",
        "font_name = font_manager.FontProperties(fname=path, size=10).get_name() #폰트이름 가져오기\n",
        "font_name"
      ],
      "metadata": {
        "id": "ODMdTtLdhixQ"
      },
      "execution_count": null,
      "outputs": []
    },
    {
      "cell_type": "code",
      "source": [
        "plt.rc('font', family=\"NanumGothic\") #한글설치"
      ],
      "metadata": {
        "id": "9XMr4ChoUYmv"
      },
      "execution_count": null,
      "outputs": []
    },
    {
      "cell_type": "code",
      "source": [
        "# groupby를 이용해서 거래별 거래금액의 합 계산\n",
        "# 거래별 거래금액의 합을 비교하기 위해 막대그래프 출력\n",
        "amount_tab = card_df.groupby('Class').sum()['Amount']\n",
        "amount_tab.index = ['정상 거래', '사기 거래']\n",
        "amount_tab"
      ],
      "metadata": {
        "id": "oQUXZhx7Snee"
      },
      "execution_count": null,
      "outputs": []
    },
    {
      "cell_type": "code",
      "source": [
        "sns.barplot(x=amount_tab.index, y=amount_tab)\n",
        "plt.title('거래액수 비교')\n",
        "plt.ticklabel_format(style='plain', axis='y') #y축 scientific notation 제거"
      ],
      "metadata": {
        "id": "8VVm9x3ntYsK"
      },
      "execution_count": null,
      "outputs": []
    },
    {
      "cell_type": "markdown",
      "source": [
        "# Exercise #7 날짜처리 후 선그래프"
      ],
      "metadata": {
        "id": "CHNw5nbu8cb7"
      }
    },
    {
      "cell_type": "code",
      "source": [
        "# KS11 (KOSPI 지수), 2015년~현재\n",
        "import FinanceDataReader as fdr\n",
        "import matplotlib.pyplot as plt\n",
        "ks11 = fdr.DataReader('KS11', '2015')\n",
        "# ks11.index = pd.to_datetime(ks11.index) #날짜 데이터타입 변환\n",
        "plt.figure(figsize=(15,5))\n",
        "plt.plot(ks11.index, ks11.Close)\n",
        "plt.xticks(rotation=45)\n",
        "plt.grid(color='gray', linestyle='--')\n",
        "plt.title('KS11 (close)')\n",
        "plt.show()"
      ],
      "metadata": {
        "id": "rhucUAv5xry6"
      },
      "execution_count": null,
      "outputs": []
    },
    {
      "cell_type": "code",
      "source": [
        "# 원달러 환율, 1995년~현재\n",
        "krw = fdr.DataReader('USD/KRW', '1995')\n",
        "krw.index = pd.to_datetime(krw.index)\n",
        "plt.figure(figsize=(15,5))\n",
        "plt.plot(krw.index, krw.Close)\n",
        "plt.xticks(rotation=45)\n",
        "plt.grid(color='gray', linestyle='--')\n",
        "plt.title('원달러 환율 (close)')\n",
        "plt.show()"
      ],
      "metadata": {
        "id": "S2OMs6K3xuXO"
      },
      "execution_count": null,
      "outputs": []
    },
    {
      "cell_type": "code",
      "source": [
        "# 비트코인 원화 가격 (빗썸), 2016년~현재\n",
        "btc = fdr.DataReader('BTC/KRW', '2016')\n",
        "btc.index = pd.to_datetime(btc.index)\n",
        "plt.figure(figsize=(15,5))\n",
        "plt.plot(btc.index, btc.Close)\n",
        "plt.xticks(rotation=45)\n",
        "plt.grid(color='gray', linestyle='--')\n",
        "plt.title(' 비트코인 원화 가격 (close)')\n",
        "plt.show()"
      ],
      "metadata": {
        "id": "OaGcy9cPyS-e"
      },
      "execution_count": null,
      "outputs": []
    },
    {
      "cell_type": "markdown",
      "source": [
        "# Exercise #8 삼성전자 종가 크롤링 및 시각화 (선그래프)\n"
      ],
      "metadata": {
        "id": "C33K4xDhZB0S"
      }
    },
    {
      "cell_type": "code",
      "source": [
        "#셀트리온 종가 크롤링 및 시각화 (선그래프, 캔들차트)\n",
        "import requests\n",
        "from bs4 import BeautifulSoup\n",
        "headers = {'user-agent': 'Mozilla/5.0 (Windows NT 10.0; Win64; x64) AppleWebKit/537.36 (KHTML, like Gecko) Chrome/114.0.0.0 Safari/537.36 Edg/114.0.1823.51'}\n",
        "response = requests.get('https://finance.naver.com/item/sise_day.nhn?code=005930&page=1', headers=headers)\n",
        "soup = BeautifulSoup(response.text, 'html.parser')\n",
        "html_table = soup.select('table')\n",
        "table = pd.read_html(str(html_table))\n",
        "df = table[0].dropna() #셀트리온의 일별 종가, 전일비, 시가, 고가, 저가, 거래량이 있는 테이블\n",
        "df.shape"
      ],
      "metadata": {
        "id": "rRr6zvEs2ESN"
      },
      "execution_count": null,
      "outputs": []
    },
    {
      "cell_type": "code",
      "source": [
        "df = df.sort_values(by='날짜')\n",
        "df"
      ],
      "metadata": {
        "id": "8p-ufeP6MWkf"
      },
      "execution_count": null,
      "outputs": []
    },
    {
      "cell_type": "code",
      "source": [
        "plt.figure(figsize=(15,5))\n",
        "plt.plot(df.날짜, df.종가)\n",
        "plt.xticks(rotation=45)\n",
        "plt.grid(color='gray', linestyle='--')\n",
        "plt.title('Samsung (close)')\n",
        "plt.show()"
      ],
      "metadata": {
        "id": "SsiX050SNO3I"
      },
      "execution_count": null,
      "outputs": []
    },
    {
      "cell_type": "code",
      "source": [
        "# df = pd.DataFrame()\n",
        "# for page in range(1,100): # 1페이지부터 99페이지까지 반복\n",
        "#     response = requests.get('https://finance.naver.com/item/sise_day.nhn?code=005930&page='+str(page), headers=headers)\n",
        "#     soup = BeautifulSoup(response.text, 'html.parser')\n",
        "#     html_table = soup.select('table')\n",
        "#     table = pd.read_html(str(html_table))\n",
        "#     df = df.append(table[0].dropna()) #삼성전자의 일별 종가, 전일비, 시가, 고가, 저가, 거래량이 있는 테이블"
      ],
      "metadata": {
        "id": "RnqKHIUJ5vS3"
      },
      "execution_count": null,
      "outputs": []
    },
    {
      "cell_type": "code",
      "source": [
        "# df30 = df.iloc[:30]\n",
        "# df30 = df30.sort_values(by='날짜')\n",
        "# df30.head()"
      ],
      "metadata": {
        "id": "zwwQ3Na164tL"
      },
      "execution_count": null,
      "outputs": []
    },
    {
      "cell_type": "code",
      "source": [
        "# import matplotlib.pyplot as plt\n",
        "# plt.figure(figsize=(15,5))\n",
        "# plt.plot(df30.날짜, df30.종가)\n",
        "# plt.xticks(rotation=45)\n",
        "# plt.grid(color='gray', linestyle='--')\n",
        "# plt.title('Samsung (close)')\n",
        "# plt.show()"
      ],
      "metadata": {
        "id": "h9NsHO1S8Fpo"
      },
      "execution_count": null,
      "outputs": []
    },
    {
      "cell_type": "markdown",
      "source": [
        "# Exercise #9"
      ],
      "metadata": {
        "id": "4KjM6hpUpXPP"
      }
    },
    {
      "cell_type": "code",
      "source": [
        "# 암호화폐 시가총액을 확인할 수 있는 CoinMarketCap (https://coinmarketcap.com/ko/) 에서 이름 (name), 시가총액 (volume), 가격 (price), 24시간 변동 (change) 정보를 수집해서 출력하시오\n",
        "import requests\n",
        "from bs4 import BeautifulSoup\n",
        "import pandas as pd\n",
        "\n",
        "page = requests.get('https://coinmarketcap.com/ko/')\n",
        "soup = BeautifulSoup(page.content, 'html.parser')\n",
        "print(soup.prettify())\n",
        "df = pd.read_html(str(soup.select('table')[0]))[0]\n",
        "df.columns\n",
        "df[['이름', '시가총액', '가격', '24시간 %']]\n",
        "\n",
        "# find_all로 찾는 경우\n",
        "names = soup.find_all(class_=\"sc-4984dd93-0 kKpPOn\")\n",
        "amounts = soup.find_all(class_=\"sc-f8982b1f-1 bOsKfy\")\n",
        "prices = soup.find_all(class_=\"sc-bc83b59-0 iVdfNf\")\n",
        "pcts = soup.find_all(class_=\"sc-97d6d2ca-0 cYiHal\")\n",
        "names_lst = [name.text for name in names]\n",
        "amounts_lst = [amount.text for amount in amounts]\n",
        "prices_lst = [p.text for p in prices]\n",
        "pct_lst = [pct.text for pct in pcts]\n",
        "len(names_lst), len(amounts_lst), len(prices_lst), len(pct_lst)\n",
        "df = pd.DataFrame({'이름': names_lst,\n",
        "                   '시가총액': amounts_lst,\n",
        "                   '가격' : prices_lst,\n",
        "                   '24시간 %' : pct_lst})\n",
        "df"
      ],
      "metadata": {
        "id": "HjvaYholQpdQ"
      },
      "execution_count": null,
      "outputs": []
    },
    {
      "cell_type": "markdown",
      "source": [
        "# Exercise #10"
      ],
      "metadata": {
        "id": "jy1TfHxtvfle"
      }
    },
    {
      "cell_type": "code",
      "source": [
        "# 네이버 금융에서 삼성 주식 가격을 셀레니움을 이용해서 가져오기\n",
        "!pip install selenium\n",
        "import time\n",
        "from selenium import webdriver\n",
        "import keyboard\n",
        "import os\n",
        "clear = lambda: os.system('cls')\n",
        "\n",
        "options = webdriver.ChromeOptions()\n",
        "options.add_argument('headless') # 창 숨기기 옵션\n",
        "\n",
        "driver = webdriver.Edge('C:/Users/Hyo-J/Downloads/edgedriver_win64/msedgedriver.exe', options=options)\n",
        "\n",
        "driver.get('https://finance.naver.com/')\n",
        "time.sleep(2)\n",
        "\n",
        "find_list = ['047810','005930','068290','011000']\n",
        "\n",
        "stock_list=[]\n",
        "stock_price=[]\n",
        "\n",
        "while True:\n",
        "    if keyboard.is_pressed('f12'): # 안먹힘\n",
        "        print(\"pressed f12\")\n",
        "        time.sleep(0.2)\n",
        "        driver.quit()\n",
        "        break\n",
        "    time.sleep(1)\n",
        "    for n,i in enumerate(find_list):\n",
        "        search_box = driver.find_element_by_name('query')\n",
        "        search_box.send_keys(i)\n",
        "        search_box.submit()\n",
        "        time.sleep(0.8)\n",
        "        company_name = driver.find_elements_by_xpath(\"//*[@id='middle']/div[1]/div[1]/h2/a\")\n",
        "        for j in company_name:\n",
        "            if j.text not in stock_list:\n",
        "                stock_list.append(j.text)\n",
        "\n",
        "        find_price_today = driver.find_elements_by_class_name(\"no_up\")\n",
        "\n",
        "        price_list=[]\n",
        "        price = \"\"\n",
        "\n",
        "        for p in find_price_today:\n",
        "            price_list.append(p.text)\n",
        "\n",
        "        for pri in range(0, len(price_list[0]), 2):\n",
        "            price += price_list[0][pri]\n",
        "        if len(stock_price)!=len(find_list):\n",
        "            stock_price.append(price)\n",
        "        else:\n",
        "            stock_price[n]=price\n",
        "\n",
        "    clear() # 반복적인 출력으로 창이 지저분해지는걸 방지\n",
        "    print(time.strftime('%c', time.localtime(time.time())))\n",
        "    for n in range(len(find_list)):\n",
        "        print(stock_list[n],\" : \",stock_price[n])\n",
        "\n",
        "    time.sleep(3)"
      ],
      "metadata": {
        "id": "VidBkA5ebIS8"
      },
      "execution_count": null,
      "outputs": []
    },
    {
      "cell_type": "code",
      "source": [
        "# 삼성전자 뉴스 크롤링\n",
        "!pip install newspaper3k"
      ],
      "metadata": {
        "id": "4TNU9-zAJf2O"
      },
      "execution_count": null,
      "outputs": []
    },
    {
      "cell_type": "code",
      "source": [
        "from newspaper import Article\n",
        "\n",
        "url = 'https://finance.naver.com/item/news_read.nhn?article_id=0004960169&office_id=018&code=005930&page=10&sm='\n",
        "article = Article(url, language='ko')\n",
        "article.download()\n",
        "article.parse()\n",
        "text = article.text"
      ],
      "metadata": {
        "id": "QbqPu1WrJqsx"
      },
      "execution_count": null,
      "outputs": []
    },
    {
      "cell_type": "code",
      "source": [
        "!pip install konlpy"
      ],
      "metadata": {
        "id": "IHKs-AJvLc4G"
      },
      "execution_count": null,
      "outputs": []
    },
    {
      "cell_type": "code",
      "source": [
        "from konlpy.tag import Okt\n",
        "okt = Okt()\n",
        "okt.morphs(text) #형태소 분석\n",
        "okt.pos(text) #품사 태깅\n",
        "nouns = okt.nouns(text) #명사 추출"
      ],
      "metadata": {
        "id": "aUInUXkNLsfF"
      },
      "execution_count": null,
      "outputs": []
    },
    {
      "cell_type": "code",
      "source": [
        "from collections import Counter\n",
        "Counter(nouns).most_common(20)"
      ],
      "metadata": {
        "id": "PGh8ZudOM8GW"
      },
      "execution_count": null,
      "outputs": []
    },
    {
      "cell_type": "code",
      "source": [
        "!apt -qq -y install fonts-nanum\n",
        "from matplotlib import font_manager\n",
        "font_manager.findSystemFonts()"
      ],
      "metadata": {
        "id": "dZhYHV3nOIPy"
      },
      "execution_count": null,
      "outputs": []
    },
    {
      "cell_type": "code",
      "source": [
        "fontpath = '/usr/share/fonts/truetype/nanum/NanumBarunGothicBold.ttf'"
      ],
      "metadata": {
        "id": "BkIeEg-VOCi5"
      },
      "execution_count": null,
      "outputs": []
    },
    {
      "cell_type": "code",
      "source": [
        "from wordcloud import WordCloud\n",
        "plt.figure(figsize=(15,15))\n",
        "wc = WordCloud(font_path=fontpath, max_words=2000, width=1600, height=800, ).generate(text)\n",
        "plt.imshow(wc, interpolation='bilinear')"
      ],
      "metadata": {
        "id": "fb43_WFlNKq2"
      },
      "execution_count": null,
      "outputs": []
    },
    {
      "cell_type": "code",
      "source": [
        "response = requests.get(url)\n",
        "soup = BeautifulSoup(response.text, 'html.parser')\n",
        "soup.find(id='news_read').text"
      ],
      "metadata": {
        "id": "x132RAslKTx5"
      },
      "execution_count": null,
      "outputs": []
    },
    {
      "cell_type": "code",
      "source": [
        "# 삼성전자 종목에 대한 데이터를 2018년 5월 4일부터 2020년 1월 22일까지 로드\n",
        "samsung = fdr.DataReader('005930', '2018-05-04', '2020-01-22')\n",
        "samsung.head()\n",
        "samsung.shape\n",
        "col = samsung.columns\n",
        "samsung.boxplot()\n",
        "\n",
        "from sklearn.preprocessing import MinMaxScaler\n",
        "scaler = MinMaxScaler()\n",
        "samsung = pd.DataFrame(scaler.fit_transform(samsung), columns=col)\n",
        "samsung.describe()\n",
        "\n",
        "samsung.boxplot()"
      ],
      "metadata": {
        "id": "WkJuDWw8GYQh"
      },
      "execution_count": null,
      "outputs": []
    },
    {
      "cell_type": "markdown",
      "source": [],
      "metadata": {
        "id": "9V_CECXmGYC-"
      }
    }
  ]
}