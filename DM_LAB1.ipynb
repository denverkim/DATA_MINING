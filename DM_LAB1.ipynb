{
  "nbformat": 4,
  "nbformat_minor": 0,
  "metadata": {
    "colab": {
      "provenance": [],
      "gpuType": "T4",
      "authorship_tag": "ABX9TyMARS+LxB/Z2aksKfEPziC4",
      "include_colab_link": true
    },
    "kernelspec": {
      "name": "python3",
      "display_name": "Python 3"
    },
    "language_info": {
      "name": "python"
    },
    "accelerator": "GPU"
  },
  "cells": [
    {
      "cell_type": "markdown",
      "metadata": {
        "id": "view-in-github",
        "colab_type": "text"
      },
      "source": [
        "<a href=\"https://colab.research.google.com/github/denverkim/DATA_MINING/blob/main/DM_LAB1.ipynb\" target=\"_parent\"><img src=\"https://colab.research.google.com/assets/colab-badge.svg\" alt=\"Open In Colab\"/></a>"
      ]
    },
    {
      "cell_type": "code",
      "source": [
        "print('Hello, Python!')\n",
        "print(\"Python is a really great language, \", \"isn't it?\")"
      ],
      "metadata": {
        "colab": {
          "base_uri": "https://localhost:8080/"
        },
        "id": "rTN6FMoTeTgX",
        "outputId": "794fdae6-e34c-4f1c-8a5a-ddd8d08d5ce1"
      },
      "execution_count": 1,
      "outputs": [
        {
          "output_type": "stream",
          "name": "stdout",
          "text": [
            "Hello, Python!\n",
            "Python is a really great language,  isn't it?\n"
          ]
        }
      ]
    },
    {
      "cell_type": "code",
      "source": [
        "#Twinkle 예제\n",
        "print('Twinkle, twinkle, little star,')\n",
        "print('\\tHow I wonder what you are!')\n",
        "print('\\t\\tUp above the world so high,')\n",
        "print('\\t\\tLike a diamond in the sky.')\n",
        "print('Twinkle, twinkle, little star,')\n",
        "print('\\tHow I wonder what you are!')"
      ],
      "metadata": {
        "colab": {
          "base_uri": "https://localhost:8080/"
        },
        "id": "hTEgR_X-eVaY",
        "outputId": "ef67619a-f076-4ee1-d463-13786f224683"
      },
      "execution_count": 2,
      "outputs": [
        {
          "output_type": "stream",
          "name": "stdout",
          "text": [
            "Twinkle, twinkle, little star,\n",
            "\tHow I wonder what you are!\n",
            "\t\tUp above the world so high,\n",
            "\t\tLike a diamond in the sky.\n",
            "Twinkle, twinkle, little star,\n",
            "\tHow I wonder what you are!\n"
          ]
        }
      ]
    },
    {
      "cell_type": "code",
      "source": [
        "#세금계산프로그램\n",
        "rate = .2\n",
        "std_ded = 10000\n",
        "dep_ded = 3000\n",
        "\n",
        "income = float(input('Enter the gross income: '))\n",
        "num_dep = int(input('Enter the number of dependents: '))\n",
        "tax = (income - std_ded - dep_ded * num_dep)*rate\n",
        "print('The income tax is $' + str(tax))"
      ],
      "metadata": {
        "colab": {
          "base_uri": "https://localhost:8080/"
        },
        "id": "51lgyLTBeXL6",
        "outputId": "8b45652c-0367-4612-c092-1fc34fd5490d"
      },
      "execution_count": 6,
      "outputs": [
        {
          "output_type": "stream",
          "name": "stdout",
          "text": [
            "Enter the gross income: 150000\n",
            "Enter the number of dependents: 3\n",
            "The income tax is $26200.0\n"
          ]
        }
      ]
    },
    {
      "cell_type": "code",
      "source": [
        "# 100살이 되는 년도 계산\n",
        "name = input(\"What is your name? \")\n",
        "age = input(\"How old are you? \")\n",
        "year = 100 - int(age) + 2024\n",
        "print(name + \" will be 100 years old in the year \" + str(year))"
      ],
      "metadata": {
        "colab": {
          "base_uri": "https://localhost:8080/"
        },
        "id": "Eszmc6BmeZfQ",
        "outputId": "19f2e3fb-cedc-44b3-fba9-218c940faaa2"
      },
      "execution_count": 8,
      "outputs": [
        {
          "output_type": "stream",
          "name": "stdout",
          "text": [
            "What is your name? kim\n",
            "How old are you? 22\n",
            "kim will be 100 years old in the year 2102\n"
          ]
        }
      ]
    },
    {
      "cell_type": "code",
      "execution_count": 11,
      "metadata": {
        "colab": {
          "base_uri": "https://localhost:8080/"
        },
        "id": "VSiXo4KIeRZj",
        "outputId": "55d106ef-2f12-412f-dd88-ba5073a35794"
      },
      "outputs": [
        {
          "output_type": "stream",
          "name": "stdout",
          "text": [
            "what is your weight? 70\n",
            "what is your height? 170\n",
            "your BMI is 24.2215\n"
          ]
        }
      ],
      "source": [
        "# BMI 계산\n",
        "weight = input(\"what is your weight? \")\n",
        "height = input(\"what is your height? \")\n",
        "bmi = int(weight) / (int(height)/100)**2\n",
        "print(\"your BMI is \" + \"%6.4f\"% bmi)\n",
        "#print(\"your BMI is \" + str(bmi))"
      ]
    }
  ]
}